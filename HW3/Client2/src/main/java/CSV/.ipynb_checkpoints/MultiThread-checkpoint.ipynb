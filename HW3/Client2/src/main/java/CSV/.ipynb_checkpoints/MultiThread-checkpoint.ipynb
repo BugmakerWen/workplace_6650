{
 "cells": [
  {
   "cell_type": "code",
   "execution_count": 5,
   "id": "2ca9950e",
   "metadata": {},
   "outputs": [],
   "source": [
    "import pandas as pd\n",
    "import numpy as np\n",
    "import matplotlib.pyplot as plt\n",
    "import time as time"
   ]
  },
  {
   "cell_type": "code",
   "execution_count": 7,
   "id": "23101e89",
   "metadata": {},
   "outputs": [
    {
     "name": "stdout",
     "output_type": "stream",
     "text": [
      "1676062955.615963\n"
     ]
    }
   ],
   "source": [
    "data = pd.read_csv('/Users/mw/Desktop/WorkPlace/hw1/Client2/src/main/java/CSV/MultiThreadOutput.CSV')\n",
    "data.head()\n",
    "print(time.time())"
   ]
  },
  {
   "cell_type": "code",
   "execution_count": 12,
   "id": "1e6e3201",
   "metadata": {},
   "outputs": [
    {
     "data": {
      "text/html": [
       "<div>\n",
       "<style scoped>\n",
       "    .dataframe tbody tr th:only-of-type {\n",
       "        vertical-align: middle;\n",
       "    }\n",
       "\n",
       "    .dataframe tbody tr th {\n",
       "        vertical-align: top;\n",
       "    }\n",
       "\n",
       "    .dataframe thead th {\n",
       "        text-align: right;\n",
       "    }\n",
       "</style>\n",
       "<table border=\"1\" class=\"dataframe\">\n",
       "  <thead>\n",
       "    <tr style=\"text-align: right;\">\n",
       "      <th></th>\n",
       "      <th>Start Time</th>\n",
       "      <th>Latency</th>\n",
       "      <th>Type</th>\n",
       "      <th>Code</th>\n",
       "      <th>End</th>\n",
       "    </tr>\n",
       "  </thead>\n",
       "  <tbody>\n",
       "    <tr>\n",
       "      <th>0</th>\n",
       "      <td>1676060539925</td>\n",
       "      <td>384</td>\n",
       "      <td>POST</td>\n",
       "      <td>201.0</td>\n",
       "      <td>0.384</td>\n",
       "    </tr>\n",
       "    <tr>\n",
       "      <th>1</th>\n",
       "      <td>1676060539925</td>\n",
       "      <td>384</td>\n",
       "      <td>POST</td>\n",
       "      <td>201.0</td>\n",
       "      <td>0.384</td>\n",
       "    </tr>\n",
       "    <tr>\n",
       "      <th>2</th>\n",
       "      <td>1676060539926</td>\n",
       "      <td>383</td>\n",
       "      <td>POST</td>\n",
       "      <td>201.0</td>\n",
       "      <td>0.384</td>\n",
       "    </tr>\n",
       "    <tr>\n",
       "      <th>3</th>\n",
       "      <td>1676060539926</td>\n",
       "      <td>383</td>\n",
       "      <td>POST</td>\n",
       "      <td>201.0</td>\n",
       "      <td>0.384</td>\n",
       "    </tr>\n",
       "    <tr>\n",
       "      <th>4</th>\n",
       "      <td>1676060539926</td>\n",
       "      <td>383</td>\n",
       "      <td>POST</td>\n",
       "      <td>201.0</td>\n",
       "      <td>0.384</td>\n",
       "    </tr>\n",
       "  </tbody>\n",
       "</table>\n",
       "</div>"
      ],
      "text/plain": [
       "      Start Time  Latency  Type   Code    End\n",
       "0  1676060539925      384  POST  201.0  0.384\n",
       "1  1676060539925      384  POST  201.0  0.384\n",
       "2  1676060539926      383  POST  201.0  0.384\n",
       "3  1676060539926      383  POST  201.0  0.384\n",
       "4  1676060539926      383  POST  201.0  0.384"
      ]
     },
     "execution_count": 12,
     "metadata": {},
     "output_type": "execute_result"
    }
   ],
   "source": [
    "data['End'] = (data['Start Time'] + data['Latency'] - 1676060539925) / 1000.0\n",
    "data.head()"
   ]
  },
  {
   "cell_type": "code",
   "execution_count": 13,
   "id": "514c53e5",
   "metadata": {},
   "outputs": [
    {
     "data": {
      "text/plain": [
       "0    0.384\n",
       "1    0.384\n",
       "2    0.384\n",
       "3    0.384\n",
       "4    0.384\n",
       "Name: End, dtype: float64"
      ]
     },
     "execution_count": 13,
     "metadata": {},
     "output_type": "execute_result"
    }
   ],
   "source": [
    "end = data.End\n",
    "end.head()"
   ]
  },
  {
   "cell_type": "code",
   "execution_count": 14,
   "id": "5e05ce3e",
   "metadata": {},
   "outputs": [
    {
     "data": {
      "text/plain": [
       "(array([1784., 1813., 2077., 3013., 2505., 1392., 3571., 3853., 3864.,\n",
       "        2812., 5349., 1622., 2115., 3106., 2690., 1571., 2773., 1476.,\n",
       "        2748., 3443., 3277., 2013., 2492., 1496., 3414., 3536., 2830.,\n",
       "        3331., 4566., 3603., 2004., 2437., 4102., 3544., 2405., 2339.,\n",
       "        2286., 2654., 2734., 3477., 1836., 4864., 2935., 2999., 2518.,\n",
       "        2733., 1201., 3619., 2498., 2875., 2952., 2302., 2321., 2171.,\n",
       "        2428., 2707., 2742., 3316., 3083., 1609., 2811., 2687., 3009.,\n",
       "        2860., 3552., 2268., 3112., 4168., 3824., 4223., 3895., 4513.,\n",
       "        1504., 2238., 2753., 3107., 2049., 2813.,  711., 2425., 2948.,\n",
       "        2836., 2892., 2671., 1713., 2240., 3133., 3647., 3169., 4186.,\n",
       "        3285., 2383., 3223., 2837., 2383., 3094., 2664., 2321., 3817.,\n",
       "        3148., 3223., 2065., 3160., 1431., 2934., 5122., 4333., 3793.,\n",
       "        4556., 2743., 2737., 2387., 2943., 4612., 3412., 1667., 1175.,\n",
       "        3066., 2837., 1311., 2504., 2600., 2551., 2972., 2507., 1707.,\n",
       "        3712., 3036., 1593., 2751., 3020., 2874., 3766., 3205., 2175.,\n",
       "        1630., 3407., 3486., 4036., 3986., 3296., 1722., 3191., 3056.,\n",
       "        3876., 3659., 4907., 2332., 4968., 2950., 2779., 3416., 2164.,\n",
       "        1933., 3079., 4069., 2784., 2288., 2999., 4208., 3480., 3221.,\n",
       "        1988., 2635., 3141., 1331., 2232., 3946., 2946., 3145., 2666.,\n",
       "        1894., 1687., 1245.,  626.]),\n",
       " array([  0.384  ,   1.86324,   3.34248,   4.82172,   6.30096,   7.7802 ,\n",
       "          9.25944,  10.73868,  12.21792,  13.69716,  15.1764 ,  16.65564,\n",
       "         18.13488,  19.61412,  21.09336,  22.5726 ,  24.05184,  25.53108,\n",
       "         27.01032,  28.48956,  29.9688 ,  31.44804,  32.92728,  34.40652,\n",
       "         35.88576,  37.365  ,  38.84424,  40.32348,  41.80272,  43.28196,\n",
       "         44.7612 ,  46.24044,  47.71968,  49.19892,  50.67816,  52.1574 ,\n",
       "         53.63664,  55.11588,  56.59512,  58.07436,  59.5536 ,  61.03284,\n",
       "         62.51208,  63.99132,  65.47056,  66.9498 ,  68.42904,  69.90828,\n",
       "         71.38752,  72.86676,  74.346  ,  75.82524,  77.30448,  78.78372,\n",
       "         80.26296,  81.7422 ,  83.22144,  84.70068,  86.17992,  87.65916,\n",
       "         89.1384 ,  90.61764,  92.09688,  93.57612,  95.05536,  96.5346 ,\n",
       "         98.01384,  99.49308, 100.97232, 102.45156, 103.9308 , 105.41004,\n",
       "        106.88928, 108.36852, 109.84776, 111.327  , 112.80624, 114.28548,\n",
       "        115.76472, 117.24396, 118.7232 , 120.20244, 121.68168, 123.16092,\n",
       "        124.64016, 126.1194 , 127.59864, 129.07788, 130.55712, 132.03636,\n",
       "        133.5156 , 134.99484, 136.47408, 137.95332, 139.43256, 140.9118 ,\n",
       "        142.39104, 143.87028, 145.34952, 146.82876, 148.308  , 149.78724,\n",
       "        151.26648, 152.74572, 154.22496, 155.7042 , 157.18344, 158.66268,\n",
       "        160.14192, 161.62116, 163.1004 , 164.57964, 166.05888, 167.53812,\n",
       "        169.01736, 170.4966 , 171.97584, 173.45508, 174.93432, 176.41356,\n",
       "        177.8928 , 179.37204, 180.85128, 182.33052, 183.80976, 185.289  ,\n",
       "        186.76824, 188.24748, 189.72672, 191.20596, 192.6852 , 194.16444,\n",
       "        195.64368, 197.12292, 198.60216, 200.0814 , 201.56064, 203.03988,\n",
       "        204.51912, 205.99836, 207.4776 , 208.95684, 210.43608, 211.91532,\n",
       "        213.39456, 214.8738 , 216.35304, 217.83228, 219.31152, 220.79076,\n",
       "        222.27   , 223.74924, 225.22848, 226.70772, 228.18696, 229.6662 ,\n",
       "        231.14544, 232.62468, 234.10392, 235.58316, 237.0624 , 238.54164,\n",
       "        240.02088, 241.50012, 242.97936, 244.4586 , 245.93784, 247.41708,\n",
       "        248.89632, 250.37556, 251.8548 , 253.33404, 254.81328, 256.29252,\n",
       "        257.77176, 259.251  ]),\n",
       " <BarContainer object of 175 artists>)"
      ]
     },
     "execution_count": 14,
     "metadata": {},
     "output_type": "execute_result"
    },
    {
     "data": {
      "image/png": "[encoded data removed]",
      "text/plain": [
       "<Figure size 640x480 with 1 Axes>"
      ]
     },
     "metadata": {},
     "output_type": "display_data"
    }
   ],
   "source": [
    "plt.hist(end, bins = 175)"
   ]
  }
 ],
 "metadata": {
  "kernelspec": {
   "display_name": "Python 3 (ipykernel)",
   "language": "python",
   "name": "python3"
  },
  "language_info": {
   "codemirror_mode": {
    "name": "ipython",
    "version": 3
   },
   "file_extension": ".py",
   "mimetype": "text/x-python",
   "name": "python",
   "nbconvert_exporter": "python",
   "pygments_lexer": "ipython3",
   "version": "3.9.13"
  }
 },
 "nbformat": 4,
 "nbformat_minor": 5
}
